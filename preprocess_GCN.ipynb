{
 "cells": [
  {
   "cell_type": "code",
   "execution_count": 7,
   "metadata": {},
   "outputs": [],
   "source": [
    "import pandas as pd"
   ]
  },
  {
   "cell_type": "code",
   "execution_count": 8,
   "metadata": {},
   "outputs": [],
   "source": [
    "df_train = pd.read_csv('data/RandomComp/train.csv')\n",
    "df_test = pd.read_csv('data/RandomComp/test.csv')"
   ]
  },
  {
   "cell_type": "code",
   "execution_count": 3,
   "metadata": {},
   "outputs": [],
   "source": [
    "# df_train = pd.read_csv('data/LimitedComp/train_limit_news.csv')\n",
    "# df_test = pd.read_csv('data/LimitedComp/test_limit_news.csv')"
   ]
  },
  {
   "cell_type": "code",
   "execution_count": 9,
   "metadata": {},
   "outputs": [
    {
     "data": {
      "text/html": [
       "<div>\n",
       "<style scoped>\n",
       "    .dataframe tbody tr th:only-of-type {\n",
       "        vertical-align: middle;\n",
       "    }\n",
       "\n",
       "    .dataframe tbody tr th {\n",
       "        vertical-align: top;\n",
       "    }\n",
       "\n",
       "    .dataframe thead th {\n",
       "        text-align: right;\n",
       "    }\n",
       "</style>\n",
       "<table border=\"1\" class=\"dataframe\">\n",
       "  <thead>\n",
       "    <tr style=\"text-align: right;\">\n",
       "      <th></th>\n",
       "      <th>stock</th>\n",
       "      <th>date</th>\n",
       "      <th>title</th>\n",
       "      <th>label</th>\n",
       "    </tr>\n",
       "  </thead>\n",
       "  <tbody>\n",
       "    <tr>\n",
       "      <th>0</th>\n",
       "      <td>GME</td>\n",
       "      <td>2017-03-01</td>\n",
       "      <td>Xbox's Monthly Subscription Service Could Be B...</td>\n",
       "      <td>1</td>\n",
       "    </tr>\n",
       "    <tr>\n",
       "      <th>1</th>\n",
       "      <td>STL</td>\n",
       "      <td>2017-08-31</td>\n",
       "      <td>Sterling Bancorp, Astoria Financial Report Fed...</td>\n",
       "      <td>1</td>\n",
       "    </tr>\n",
       "    <tr>\n",
       "      <th>2</th>\n",
       "      <td>ALXN</td>\n",
       "      <td>2016-11-17</td>\n",
       "      <td>Alexion Releases Data On Soliris Showing It Re...</td>\n",
       "      <td>1</td>\n",
       "    </tr>\n",
       "    <tr>\n",
       "      <th>3</th>\n",
       "      <td>CPST</td>\n",
       "      <td>2016-10-18</td>\n",
       "      <td>Capstone Turbine Corporation Announces Pricing...</td>\n",
       "      <td>0</td>\n",
       "    </tr>\n",
       "    <tr>\n",
       "      <th>4</th>\n",
       "      <td>VSH</td>\n",
       "      <td>2016-02-09</td>\n",
       "      <td>Vishay Intertechnology Reports Q4 Adj. EPS $0....</td>\n",
       "      <td>2</td>\n",
       "    </tr>\n",
       "  </tbody>\n",
       "</table>\n",
       "</div>"
      ],
      "text/plain": [
       "  stock        date                                              title  label\n",
       "0   GME  2017-03-01  Xbox's Monthly Subscription Service Could Be B...      1\n",
       "1   STL  2017-08-31  Sterling Bancorp, Astoria Financial Report Fed...      1\n",
       "2  ALXN  2016-11-17  Alexion Releases Data On Soliris Showing It Re...      1\n",
       "3  CPST  2016-10-18  Capstone Turbine Corporation Announces Pricing...      0\n",
       "4   VSH  2016-02-09  Vishay Intertechnology Reports Q4 Adj. EPS $0....      2"
      ]
     },
     "execution_count": 9,
     "metadata": {},
     "output_type": "execute_result"
    }
   ],
   "source": [
    "df_train.head()"
   ]
  },
  {
   "cell_type": "code",
   "execution_count": 10,
   "metadata": {},
   "outputs": [],
   "source": [
    "X_train, y_train = df_train['title'].to_numpy(), df_train['label'].to_numpy()\n",
    "X_test, y_test = df_test['title'].to_numpy(), df_test['label'].to_numpy()"
   ]
  },
  {
   "cell_type": "code",
   "execution_count": 11,
   "metadata": {},
   "outputs": [],
   "source": [
    "f = open('stock.txt', 'w')\n",
    "f_c = open('stock_corpus.txt', 'w')\n",
    "\n",
    "i = 0\n",
    "for x, y in zip(X_train, y_train):\n",
    "    f_c.write(x+'\\n')\n",
    "    f.write(str(i) + '\\t' + 'train' + '\\t' + str(y) + '\\n')\n",
    "    i += 1\n",
    "    \n",
    "for x, y in zip(X_test, y_test):\n",
    "    f_c.write(x+'\\n')\n",
    "    f.write(str(i) + '\\t' + 'test' + '\\t' + str(y) + '\\n')\n",
    "    i += 1"
   ]
  },
  {
   "cell_type": "code",
   "execution_count": null,
   "metadata": {},
   "outputs": [],
   "source": []
  }
 ],
 "metadata": {
  "kernelspec": {
   "display_name": "Python 3",
   "language": "python",
   "name": "python3"
  },
  "language_info": {
   "codemirror_mode": {
    "name": "ipython",
    "version": 3
   },
   "file_extension": ".py",
   "mimetype": "text/x-python",
   "name": "python",
   "nbconvert_exporter": "python",
   "pygments_lexer": "ipython3",
   "version": "3.8.3"
  }
 },
 "nbformat": 4,
 "nbformat_minor": 4
}
