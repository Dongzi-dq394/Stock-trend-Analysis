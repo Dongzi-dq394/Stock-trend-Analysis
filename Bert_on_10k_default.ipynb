{
  "nbformat": 4,
  "nbformat_minor": 0,
  "metadata": {
    "colab": {
      "name": "Bert-on-10k-default.ipynb",
      "provenance": [],
      "toc_visible": true,
      "machine_shape": "hm"
    },
    "kernelspec": {
      "name": "python3",
      "display_name": "Python 3"
    },
    "accelerator": "GPU"
  },
  "cells": [
    {
      "cell_type": "markdown",
      "metadata": {
        "id": "ZpO4ESOBINJS"
      },
      "source": [
        "# BERT on 10K"
      ]
    },
    {
      "cell_type": "code",
      "metadata": {
        "colab": {
          "base_uri": "https://localhost:8080/"
        },
        "id": "r1TlQ27lIL0_",
        "outputId": "e40a1b30-3a4d-44e5-a10d-daa10076ee7b"
      },
      "source": [
        "# Install transformers package from Huggingface\n",
        "!pip install transformers"
      ],
      "execution_count": null,
      "outputs": [
        {
          "output_type": "stream",
          "text": [
            "Requirement already satisfied: transformers in /usr/local/lib/python3.6/dist-packages (3.5.1)\n",
            "Requirement already satisfied: tqdm>=4.27 in /usr/local/lib/python3.6/dist-packages (from transformers) (4.41.1)\n",
            "Requirement already satisfied: regex!=2019.12.17 in /usr/local/lib/python3.6/dist-packages (from transformers) (2019.12.20)\n",
            "Requirement already satisfied: requests in /usr/local/lib/python3.6/dist-packages (from transformers) (2.23.0)\n",
            "Requirement already satisfied: packaging in /usr/local/lib/python3.6/dist-packages (from transformers) (20.4)\n",
            "Requirement already satisfied: numpy in /usr/local/lib/python3.6/dist-packages (from transformers) (1.18.5)\n",
            "Requirement already satisfied: dataclasses; python_version < \"3.7\" in /usr/local/lib/python3.6/dist-packages (from transformers) (0.8)\n",
            "Requirement already satisfied: sacremoses in /usr/local/lib/python3.6/dist-packages (from transformers) (0.0.43)\n",
            "Requirement already satisfied: sentencepiece==0.1.91 in /usr/local/lib/python3.6/dist-packages (from transformers) (0.1.91)\n",
            "Requirement already satisfied: tokenizers==0.9.3 in /usr/local/lib/python3.6/dist-packages (from transformers) (0.9.3)\n",
            "Requirement already satisfied: protobuf in /usr/local/lib/python3.6/dist-packages (from transformers) (3.12.4)\n",
            "Requirement already satisfied: filelock in /usr/local/lib/python3.6/dist-packages (from transformers) (3.0.12)\n",
            "Requirement already satisfied: chardet<4,>=3.0.2 in /usr/local/lib/python3.6/dist-packages (from requests->transformers) (3.0.4)\n",
            "Requirement already satisfied: idna<3,>=2.5 in /usr/local/lib/python3.6/dist-packages (from requests->transformers) (2.10)\n",
            "Requirement already satisfied: certifi>=2017.4.17 in /usr/local/lib/python3.6/dist-packages (from requests->transformers) (2020.11.8)\n",
            "Requirement already satisfied: urllib3!=1.25.0,!=1.25.1,<1.26,>=1.21.1 in /usr/local/lib/python3.6/dist-packages (from requests->transformers) (1.24.3)\n",
            "Requirement already satisfied: six in /usr/local/lib/python3.6/dist-packages (from packaging->transformers) (1.15.0)\n",
            "Requirement already satisfied: pyparsing>=2.0.2 in /usr/local/lib/python3.6/dist-packages (from packaging->transformers) (2.4.7)\n",
            "Requirement already satisfied: joblib in /usr/local/lib/python3.6/dist-packages (from sacremoses->transformers) (0.17.0)\n",
            "Requirement already satisfied: click in /usr/local/lib/python3.6/dist-packages (from sacremoses->transformers) (7.1.2)\n",
            "Requirement already satisfied: setuptools in /usr/local/lib/python3.6/dist-packages (from protobuf->transformers) (50.3.2)\n"
          ],
          "name": "stdout"
        }
      ]
    },
    {
      "cell_type": "code",
      "metadata": {
        "id": "sjkwH2QBIMhD"
      },
      "source": [
        "import torch\n",
        "import pandas as pd\n",
        "import numpy as np\n",
        "\n",
        "\n",
        "from sklearn.model_selection import train_test_split\n",
        "from sklearn.model_selection import KFold\n",
        "from sklearn.metrics import f1_score\n",
        "from transformers import BertTokenizer\n",
        "from transformers import BertForSequenceClassification\n",
        "from transformers import AdamW\n",
        "from torch.utils.data import DataLoader\n",
        "from torch.nn import functional as F"
      ],
      "execution_count": null,
      "outputs": []
    },
    {
      "cell_type": "code",
      "metadata": {
        "colab": {
          "base_uri": "https://localhost:8080/"
        },
        "id": "91iI_ovtIMpt",
        "outputId": "b1c8d8bf-97cf-4a94-a7c7-342b285e582b"
      },
      "source": [
        "if torch.cuda.is_available():\n",
        "  device = torch.device(\"cuda\")\n",
        "  print('Using GPU ', torch.cuda.get_device_name(0)) \n",
        "else:\n",
        "  device = torch.device(\"cpu\")\n",
        "  print('Using CPU')"
      ],
      "execution_count": null,
      "outputs": [
        {
          "output_type": "stream",
          "text": [
            "Using GPU  Tesla P100-PCIE-16GB\n"
          ],
          "name": "stdout"
        }
      ]
    },
    {
      "cell_type": "code",
      "metadata": {
        "colab": {
          "base_uri": "https://localhost:8080/"
        },
        "id": "S7ABOYOTIMuW",
        "outputId": "620157ed-66b9-4a38-a53e-2c45be314e83"
      },
      "source": [
        "df = pd.read_csv('10K_text_price_label.csv')\n",
        "\n",
        "print(\"The length for 10K data: {}\".format(len(df)))"
      ],
      "execution_count": null,
      "outputs": [
        {
          "output_type": "stream",
          "text": [
            "The length for 10K data: 944\n"
          ],
          "name": "stdout"
        }
      ]
    },
    {
      "cell_type": "code",
      "metadata": {
        "colab": {
          "base_uri": "https://localhost:8080/",
          "height": 204
        },
        "id": "0lHkReshIMxM",
        "outputId": "b01ccc9a-60e1-400b-e3e9-f97fb5d4d82d"
      },
      "source": [
        "df.head()"
      ],
      "execution_count": null,
      "outputs": [
        {
          "output_type": "execute_result",
          "data": {
            "text/html": [
              "<div>\n",
              "<style scoped>\n",
              "    .dataframe tbody tr th:only-of-type {\n",
              "        vertical-align: middle;\n",
              "    }\n",
              "\n",
              "    .dataframe tbody tr th {\n",
              "        vertical-align: top;\n",
              "    }\n",
              "\n",
              "    .dataframe thead th {\n",
              "        text-align: right;\n",
              "    }\n",
              "</style>\n",
              "<table border=\"1\" class=\"dataframe\">\n",
              "  <thead>\n",
              "    <tr style=\"text-align: right;\">\n",
              "      <th></th>\n",
              "      <th>Company</th>\n",
              "      <th>Year</th>\n",
              "      <th>Doc</th>\n",
              "      <th>Label</th>\n",
              "    </tr>\n",
              "  </thead>\n",
              "  <tbody>\n",
              "    <tr>\n",
              "      <th>0</th>\n",
              "      <td>ACC</td>\n",
              "      <td>2017</td>\n",
              "      <td>10 k 1 acc2016123110k htm 10 k document unite ...</td>\n",
              "      <td>0</td>\n",
              "    </tr>\n",
              "    <tr>\n",
              "      <th>1</th>\n",
              "      <td>ACC</td>\n",
              "      <td>2016</td>\n",
              "      <td>10 k 1 acc2015123110k htm 10 k 10 k unite stat...</td>\n",
              "      <td>2</td>\n",
              "    </tr>\n",
              "    <tr>\n",
              "      <th>2</th>\n",
              "      <td>ACC</td>\n",
              "      <td>2015</td>\n",
              "      <td>10 k 1 acc2014123110k htm 10 k acc 2014 12 31 ...</td>\n",
              "      <td>1</td>\n",
              "    </tr>\n",
              "    <tr>\n",
              "      <th>3</th>\n",
              "      <td>ACC</td>\n",
              "      <td>2014</td>\n",
              "      <td>10 k 1 acc2013123110k htm 10 k acc 2013 12 31 ...</td>\n",
              "      <td>2</td>\n",
              "    </tr>\n",
              "    <tr>\n",
              "      <th>4</th>\n",
              "      <td>ACC</td>\n",
              "      <td>2013</td>\n",
              "      <td>10 k 1 t75648_10k htm form 10 k t75648_10k htm...</td>\n",
              "      <td>0</td>\n",
              "    </tr>\n",
              "  </tbody>\n",
              "</table>\n",
              "</div>"
            ],
            "text/plain": [
              "  Company  Year                                                Doc  Label\n",
              "0     ACC  2017  10 k 1 acc2016123110k htm 10 k document unite ...      0\n",
              "1     ACC  2016  10 k 1 acc2015123110k htm 10 k 10 k unite stat...      2\n",
              "2     ACC  2015  10 k 1 acc2014123110k htm 10 k acc 2014 12 31 ...      1\n",
              "3     ACC  2014  10 k 1 acc2013123110k htm 10 k acc 2013 12 31 ...      2\n",
              "4     ACC  2013  10 k 1 t75648_10k htm form 10 k t75648_10k htm...      0"
            ]
          },
          "metadata": {
            "tags": []
          },
          "execution_count": 58
        }
      ]
    },
    {
      "cell_type": "code",
      "metadata": {
        "colab": {
          "base_uri": "https://localhost:8080/"
        },
        "id": "cWtDwMCRmzV1",
        "outputId": "4055a793-6946-44ac-a105-cebb778d0c02"
      },
      "source": [
        "#df['Label'] = df['Label'].apply(lambda x: int(x))\n",
        "df.Label.unique()"
      ],
      "execution_count": null,
      "outputs": [
        {
          "output_type": "execute_result",
          "data": {
            "text/plain": [
              "array([0, 2, 1])"
            ]
          },
          "metadata": {
            "tags": []
          },
          "execution_count": 59
        }
      ]
    },
    {
      "cell_type": "code",
      "metadata": {
        "id": "sOhvHtroIMzi"
      },
      "source": [
        "# Split the data set\n",
        "doc_data = df[['Doc']].to_numpy()\n",
        "doc_data = doc_data.reshape(doc_data.shape[0])\n",
        "labels = df[['Label']].to_numpy()\n",
        "labels = labels.reshape(labels.shape[0])\n",
        "\n",
        "train_texts, test_texts, train_labels, test_labels = train_test_split(doc_data, labels, test_size=0.2, shuffle=True, random_state=0)"
      ],
      "execution_count": null,
      "outputs": []
    },
    {
      "cell_type": "code",
      "metadata": {
        "id": "Ty99DVKnIM2t"
      },
      "source": [
        "tokenizer = BertTokenizer.from_pretrained('bert-base-uncased')"
      ],
      "execution_count": null,
      "outputs": []
    },
    {
      "cell_type": "code",
      "metadata": {
        "id": "wAyGaSDgYF8W"
      },
      "source": [
        "EPOCHS = 20\n",
        "BATCHES = 8\n",
        "learning_rates = [1e-3, 1e-4, 1e-5]"
      ],
      "execution_count": null,
      "outputs": []
    },
    {
      "cell_type": "code",
      "metadata": {
        "id": "B26Qun3fYF-c"
      },
      "source": [
        "# Turn labels and encodings into a Dataset object\n",
        "\n",
        "class MyDataset(torch.utils.data.Dataset):\n",
        "    def __init__(self, encodings, labels):\n",
        "        self.encodings = encodings\n",
        "        self.labels = labels\n",
        "\n",
        "    def __getitem__(self, idx):\n",
        "        item = {key: torch.tensor(val[idx]) for key, val in self.encodings.items()}\n",
        "        item['labels'] = torch.tensor(self.labels[idx])\n",
        "        return item\n",
        "\n",
        "    def __len__(self):\n",
        "        return len(self.labels)"
      ],
      "execution_count": null,
      "outputs": []
    },
    {
      "cell_type": "code",
      "metadata": {
        "colab": {
          "base_uri": "https://localhost:8080/"
        },
        "id": "MNqASnRVYGC9",
        "outputId": "87ae3839-aa22-44d4-adbe-c4e6fe1c74ac"
      },
      "source": [
        "# According to the above result\n",
        "best_lr = 1e-5\n",
        "\n",
        "# In order to improve the accuracy, set max_length = 30\n",
        "# Encoding the training data\n",
        "train_encoding = tokenizer(list(train_texts), return_tensors='pt', padding=True, truncation=True, max_length=30)\n",
        "\n",
        "# Turn into dataset object\n",
        "train_dataset = MyDataset(train_encoding, train_labels)\n",
        "\n",
        "# Bert model from Huggingface\n",
        "model = BertForSequenceClassification.from_pretrained('bert-base-uncased', return_dict=True, num_labels=3)\n",
        "# Put the model on device\n",
        "model.to(device)\n",
        "\n",
        "# Use mini-bathces\n",
        "train_loader = DataLoader(train_dataset, batch_size=BATCHES, shuffle=True)\n",
        "\n",
        "# Set the optimizer AdamW\n",
        "optimizer = AdamW(model.parameters(), lr=best_lr)\n",
        "\n",
        "# Implement eary stopping\n",
        "min_loss = float('inf')\n",
        "epoch_count = 0\n",
        "early_stop = False\n",
        "\n"
      ],
      "execution_count": null,
      "outputs": [
        {
          "output_type": "stream",
          "text": [
            "Some weights of the model checkpoint at bert-base-uncased were not used when initializing BertForSequenceClassification: ['cls.predictions.bias', 'cls.predictions.transform.dense.weight', 'cls.predictions.transform.dense.bias', 'cls.predictions.decoder.weight', 'cls.seq_relationship.weight', 'cls.seq_relationship.bias', 'cls.predictions.transform.LayerNorm.weight', 'cls.predictions.transform.LayerNorm.bias']\n",
            "- This IS expected if you are initializing BertForSequenceClassification from the checkpoint of a model trained on another task or with another architecture (e.g. initializing a BertForSequenceClassification model from a BertForPreTraining model).\n",
            "- This IS NOT expected if you are initializing BertForSequenceClassification from the checkpoint of a model that you expect to be exactly identical (initializing a BertForSequenceClassification model from a BertForSequenceClassification model).\n",
            "Some weights of BertForSequenceClassification were not initialized from the model checkpoint at bert-base-uncased and are newly initialized: ['classifier.weight', 'classifier.bias']\n",
            "You should probably TRAIN this model on a down-stream task to be able to use it for predictions and inference.\n"
          ],
          "name": "stderr"
        }
      ]
    },
    {
      "cell_type": "code",
      "metadata": {
        "colab": {
          "base_uri": "https://localhost:8080/"
        },
        "id": "GotIDK41mCEk",
        "outputId": "2c1d4fbe-47b4-45d7-9111-f6693044024f"
      },
      "source": [
        "for epoch in range(20):\n",
        "  # Put the model in training mode\n",
        "  model.train()\n",
        "\n",
        "  train_loss = 0\n",
        "\n",
        "  for batch in train_loader:\n",
        "    optimizer.zero_grad()\n",
        "    input_ids = batch['input_ids'].to(device)\n",
        "    attention_mask = batch['attention_mask'].to(device)\n",
        "    batch_labels = batch['labels'].to(device)\n",
        "    outputs = model(input_ids, attention_mask=attention_mask, labels=batch_labels)\n",
        "    # Use cross entropy loss\n",
        "    #loss = F.cross_entropy(outputs.logits, batch_labels)\n",
        "    loss = outputs.loss\n",
        "    loss.backward()\n",
        "    optimizer.step()\n",
        "    train_loss += loss.item()\n",
        "  \n",
        "  print(\"Current Epoch: {}\".format(epoch + 1))\n",
        "  print(\"------------------------------------------\")\n",
        "  print(\"Train loss: {}\".format(train_loss))\n",
        "  print()\n",
        "  \n",
        "  # Check whether to stop or not\n",
        "  min_loss = min(train_loss, min_loss)\n",
        "  if min_loss < train_loss:\n",
        "    if epoch_count == 4:\n",
        "      early_stop = True\n",
        "      print(\"Stop training because of the early stop at epoch {}\".format(epoch + 1))\n",
        "      break\n",
        "    else:\n",
        "      epoch_count += 1\n",
        "  else:\n",
        "    # Reset the count\n",
        "    epoch_count = 0"
      ],
      "execution_count": null,
      "outputs": [
        {
          "output_type": "stream",
          "text": [
            "/usr/local/lib/python3.6/dist-packages/ipykernel_launcher.py:9: UserWarning: To copy construct from a tensor, it is recommended to use sourceTensor.clone().detach() or sourceTensor.clone().detach().requires_grad_(True), rather than torch.tensor(sourceTensor).\n",
            "  if __name__ == '__main__':\n"
          ],
          "name": "stderr"
        },
        {
          "output_type": "stream",
          "text": [
            "Current Epoch: 1\n",
            "------------------------------------------\n",
            "Train loss: 99.15174627304077\n",
            "\n",
            "Current Epoch: 2\n",
            "------------------------------------------\n",
            "Train loss: 98.35795950889587\n",
            "\n",
            "Current Epoch: 3\n",
            "------------------------------------------\n",
            "Train loss: 98.35019940137863\n",
            "\n",
            "Current Epoch: 4\n",
            "------------------------------------------\n",
            "Train loss: 98.1101348400116\n",
            "\n",
            "Current Epoch: 5\n",
            "------------------------------------------\n",
            "Train loss: 96.75103312730789\n",
            "\n",
            "Current Epoch: 6\n",
            "------------------------------------------\n",
            "Train loss: 95.22738939523697\n",
            "\n",
            "Current Epoch: 7\n",
            "------------------------------------------\n",
            "Train loss: 92.62544578313828\n",
            "\n",
            "Current Epoch: 8\n",
            "------------------------------------------\n",
            "Train loss: 90.41807186603546\n",
            "\n",
            "Current Epoch: 9\n",
            "------------------------------------------\n",
            "Train loss: 85.6110614836216\n",
            "\n",
            "Current Epoch: 10\n",
            "------------------------------------------\n",
            "Train loss: 83.17677301168442\n",
            "\n",
            "Current Epoch: 11\n",
            "------------------------------------------\n",
            "Train loss: 76.94444304704666\n",
            "\n",
            "Current Epoch: 12\n",
            "------------------------------------------\n",
            "Train loss: 73.75929641723633\n",
            "\n",
            "Current Epoch: 13\n",
            "------------------------------------------\n",
            "Train loss: 68.9226039648056\n",
            "\n",
            "Current Epoch: 14\n",
            "------------------------------------------\n",
            "Train loss: 63.479456931352615\n",
            "\n",
            "Current Epoch: 15\n",
            "------------------------------------------\n",
            "Train loss: 59.05022029578686\n",
            "\n",
            "Current Epoch: 16\n",
            "------------------------------------------\n",
            "Train loss: 54.06568390130997\n",
            "\n",
            "Current Epoch: 17\n",
            "------------------------------------------\n",
            "Train loss: 51.377517484128475\n",
            "\n",
            "Current Epoch: 18\n",
            "------------------------------------------\n",
            "Train loss: 46.159781865775585\n",
            "\n",
            "Current Epoch: 19\n",
            "------------------------------------------\n",
            "Train loss: 43.82726287841797\n",
            "\n",
            "Current Epoch: 20\n",
            "------------------------------------------\n",
            "Train loss: 36.543440103530884\n",
            "\n"
          ],
          "name": "stdout"
        }
      ]
    },
    {
      "cell_type": "code",
      "metadata": {
        "id": "og0izMWEYGFA"
      },
      "source": [
        "from sklearn.metrics import accuracy_score, precision_recall_fscore_support\n",
        "\n",
        "test_encoding = tokenizer(list(test_texts), return_tensors='pt', padding=True, truncation=True, max_length=30)\n",
        "test_dataset = MyDataset(test_encoding, test_labels)\n",
        "test_loader = DataLoader(test_dataset, batch_size=BATCHES, shuffle=False)"
      ],
      "execution_count": null,
      "outputs": []
    },
    {
      "cell_type": "code",
      "metadata": {
        "colab": {
          "base_uri": "https://localhost:8080/"
        },
        "id": "phxMnYSd10ZR",
        "outputId": "8c5e4b68-a1c6-428b-ec95-34214bbe535a"
      },
      "source": [
        "with torch.no_grad():\n",
        "    total_loss = 0\n",
        "    y_pred = None\n",
        "    for batch in test_loader:\n",
        "        \n",
        "      input_ids = batch['input_ids'].to(device)\n",
        "      attention_mask = batch['attention_mask'].to(device)\n",
        "      batch_labels = batch['labels'].to(device)\n",
        "      output = model(input_ids, attention_mask=attention_mask, labels=batch_labels)\n",
        "\n",
        "      _, predicted_labels = torch.max(output.logits, 1)\n",
        "      if y_pred is not None:\n",
        "          y_pred = torch.cat((y_pred, predicted_labels), 0)\n",
        "      else:\n",
        "          y_pred = predicted_labels\n",
        " \n",
        "precision, recall, f1, _ = precision_recall_fscore_support(test_labels, y_pred.cpu(), average='micro')\n",
        "acc = accuracy_score(test_labels, y_pred.cpu())\n",
        "print('Precison: {}'.format(precision))\n",
        "print('Recall: {}'.format(recall))\n",
        "print('F1 score: {}'.format(f1))\n",
        "print('Accuracy: {}'.format(acc))"
      ],
      "execution_count": null,
      "outputs": [
        {
          "output_type": "stream",
          "text": [
            "/usr/local/lib/python3.6/dist-packages/ipykernel_launcher.py:9: UserWarning: To copy construct from a tensor, it is recommended to use sourceTensor.clone().detach() or sourceTensor.clone().detach().requires_grad_(True), rather than torch.tensor(sourceTensor).\n",
            "  if __name__ == '__main__':\n"
          ],
          "name": "stderr"
        },
        {
          "output_type": "stream",
          "text": [
            "Precison: 0.36507936507936506\n",
            "Recall: 0.36507936507936506\n",
            "F1 score: 0.36507936507936506\n",
            "Accuracy: 0.36507936507936506\n"
          ],
          "name": "stdout"
        }
      ]
    },
    {
      "cell_type": "code",
      "metadata": {
        "colab": {
          "base_uri": "https://localhost:8080/"
        },
        "id": "ZyqmGZQQ2ZmU",
        "outputId": "54e202da-d7c8-41d4-c1d8-3c6666fa30d5"
      },
      "source": [
        "# Set current learning rate here\n",
        "best_lr = 1e-4\n",
        "\n",
        "# Bert model from Huggingface\n",
        "model = BertForSequenceClassification.from_pretrained('bert-base-uncased', return_dict=True, num_labels=3)\n",
        "\n",
        "# Set the optimizer AdamW\n",
        "optimizer = AdamW(model.parameters(), lr=best_lr)\n",
        "\n",
        "# Implement early stopping\n",
        "min_loss = float('inf')\n",
        "epoch_count = 0\n",
        "early_stop = False\n",
        "\n",
        "# device = torch.device(\"cpu\")\n",
        "\n",
        "# Put the model on device\n",
        "model.to(device)\n",
        "\n",
        "for epoch in range(EPOCHS):\n",
        "  # Put the model in training mode\n",
        "  model.train()\n",
        "\n",
        "  train_loss = 0\n",
        "\n",
        "  for batch in train_loader:\n",
        "    optimizer.zero_grad()\n",
        "    input_ids = batch['input_ids'].to(device)\n",
        "    attention_mask = batch['attention_mask'].to(device)\n",
        "    batch_labels = batch['labels'].to(device)\n",
        "    outputs = model(input_ids, attention_mask=attention_mask, labels=batch_labels)\n",
        "    # Use cross entropy loss\n",
        "    #loss = F.cross_entropy(outputs.logits, batch_labels)\n",
        "    loss = outputs.loss\n",
        "    loss.backward()\n",
        "    optimizer.step()\n",
        "    train_loss += loss.item()\n",
        "  \n",
        "  print(\"Current Epoch: {}\".format(epoch + 1))\n",
        "  print(\"------------------------------------------\")\n",
        "  print(\"Train loss: {}\".format(train_loss))\n",
        "  print()\n",
        "  \n",
        "  # Check whether to stop or not\n",
        "  min_loss = min(train_loss, min_loss)\n",
        "  if min_loss < train_loss:\n",
        "    if epoch_count == 4:\n",
        "      early_stop = True\n",
        "      print(\"Stop training because of the early stop at epoch {}\".format(epoch + 1))\n",
        "      break\n",
        "    else:\n",
        "      epoch_count += 1\n",
        "  else:\n",
        "    # Reset the count\n",
        "    epoch_count = 0\n",
        "  \n",
        "with torch.no_grad():\n",
        "    total_loss = 0\n",
        "    y_pred = None\n",
        "    for batch in test_loader:\n",
        "        \n",
        "      input_ids = batch['input_ids'].to(device)\n",
        "      attention_mask = batch['attention_mask'].to(device)\n",
        "      batch_labels = batch['labels'].to(device)\n",
        "      output = model(input_ids, attention_mask=attention_mask, labels=batch_labels)\n",
        "\n",
        "      _, predicted_labels = torch.max(output.logits, 1)\n",
        "      if y_pred is not None:\n",
        "          y_pred = torch.cat((y_pred, predicted_labels), 0)\n",
        "      else:\n",
        "          y_pred = predicted_labels\n",
        " \n",
        "precision, recall, f1, _ = precision_recall_fscore_support(test_labels, y_pred.cpu(), average='micro')\n",
        "acc = accuracy_score(test_labels, y_pred.cpu())\n",
        "print('Precison: {}'.format(precision))\n",
        "print('Recall: {}'.format(recall))\n",
        "print('F1 score: {}'.format(f1))\n",
        "print('Accuracy: {}'.format(acc))"
      ],
      "execution_count": null,
      "outputs": [
        {
          "output_type": "stream",
          "text": [
            "Some weights of the model checkpoint at bert-base-uncased were not used when initializing BertForSequenceClassification: ['cls.predictions.bias', 'cls.predictions.transform.dense.weight', 'cls.predictions.transform.dense.bias', 'cls.predictions.decoder.weight', 'cls.seq_relationship.weight', 'cls.seq_relationship.bias', 'cls.predictions.transform.LayerNorm.weight', 'cls.predictions.transform.LayerNorm.bias']\n",
            "- This IS expected if you are initializing BertForSequenceClassification from the checkpoint of a model trained on another task or with another architecture (e.g. initializing a BertForSequenceClassification model from a BertForPreTraining model).\n",
            "- This IS NOT expected if you are initializing BertForSequenceClassification from the checkpoint of a model that you expect to be exactly identical (initializing a BertForSequenceClassification model from a BertForSequenceClassification model).\n",
            "Some weights of BertForSequenceClassification were not initialized from the model checkpoint at bert-base-uncased and are newly initialized: ['classifier.weight', 'classifier.bias']\n",
            "You should probably TRAIN this model on a down-stream task to be able to use it for predictions and inference.\n",
            "/usr/local/lib/python3.6/dist-packages/ipykernel_launcher.py:9: UserWarning: To copy construct from a tensor, it is recommended to use sourceTensor.clone().detach() or sourceTensor.clone().detach().requires_grad_(True), rather than torch.tensor(sourceTensor).\n",
            "  if __name__ == '__main__':\n"
          ],
          "name": "stderr"
        },
        {
          "output_type": "stream",
          "text": [
            "Current Epoch: 1\n",
            "------------------------------------------\n",
            "Train loss: 101.31162589788437\n",
            "\n",
            "Current Epoch: 2\n",
            "------------------------------------------\n",
            "Train loss: 100.32213014364243\n",
            "\n",
            "Current Epoch: 3\n",
            "------------------------------------------\n",
            "Train loss: 100.84465849399567\n",
            "\n",
            "Current Epoch: 4\n",
            "------------------------------------------\n",
            "Train loss: 99.94551229476929\n",
            "\n",
            "Current Epoch: 5\n",
            "------------------------------------------\n",
            "Train loss: 100.50420427322388\n",
            "\n",
            "Current Epoch: 6\n",
            "------------------------------------------\n",
            "Train loss: 99.48814398050308\n",
            "\n",
            "Current Epoch: 7\n",
            "------------------------------------------\n",
            "Train loss: 99.67683762311935\n",
            "\n",
            "Current Epoch: 8\n",
            "------------------------------------------\n",
            "Train loss: 99.68718737363815\n",
            "\n",
            "Current Epoch: 9\n",
            "------------------------------------------\n",
            "Train loss: 99.74585354328156\n",
            "\n",
            "Current Epoch: 10\n",
            "------------------------------------------\n",
            "Train loss: 99.94914871454239\n",
            "\n",
            "Current Epoch: 11\n",
            "------------------------------------------\n",
            "Train loss: 99.4624536037445\n",
            "\n",
            "Current Epoch: 12\n",
            "------------------------------------------\n",
            "Train loss: 99.86792421340942\n",
            "\n",
            "Current Epoch: 13\n",
            "------------------------------------------\n",
            "Train loss: 99.61666661500931\n",
            "\n",
            "Current Epoch: 14\n",
            "------------------------------------------\n",
            "Train loss: 99.22550284862518\n",
            "\n",
            "Current Epoch: 15\n",
            "------------------------------------------\n",
            "Train loss: 99.59433078765869\n",
            "\n",
            "Current Epoch: 16\n",
            "------------------------------------------\n",
            "Train loss: 100.38056206703186\n",
            "\n",
            "Current Epoch: 17\n",
            "------------------------------------------\n",
            "Train loss: 99.53147822618484\n",
            "\n",
            "Current Epoch: 18\n",
            "------------------------------------------\n",
            "Train loss: 99.61278712749481\n",
            "\n",
            "Current Epoch: 19\n",
            "------------------------------------------\n",
            "Train loss: 99.64728605747223\n",
            "\n",
            "Stop training because of the early stop at epoch 19\n",
            "Precison: 0.48677248677248675\n",
            "Recall: 0.48677248677248675\n",
            "F1 score: 0.48677248677248675\n",
            "Accuracy: 0.48677248677248675\n"
          ],
          "name": "stdout"
        }
      ]
    },
    {
      "cell_type": "code",
      "metadata": {
        "colab": {
          "base_uri": "https://localhost:8080/"
        },
        "id": "DFzPsNWg2l1y",
        "outputId": "5abfe702-55a5-48c0-bf1d-b1aaf392a7e6"
      },
      "source": [
        "# Set current learning rate here\n",
        "best_lr = 1e-6\n",
        "\n",
        "# Bert model from Huggingface\n",
        "model = BertForSequenceClassification.from_pretrained('bert-base-uncased', return_dict=True, num_labels=3)\n",
        "\n",
        "# Set the optimizer AdamW\n",
        "optimizer = AdamW(model.parameters(), lr=best_lr)\n",
        "\n",
        "# Implement early stopping\n",
        "min_loss = float('inf')\n",
        "epoch_count = 0\n",
        "early_stop = False\n",
        "\n",
        "# device = torch.device(\"cpu\")\n",
        "\n",
        "# Put the model on device\n",
        "model.to(device)\n",
        "\n",
        "for epoch in range(EPOCHS):\n",
        "  # Put the model in training mode\n",
        "  model.train()\n",
        "\n",
        "  train_loss = 0\n",
        "\n",
        "  for batch in train_loader:\n",
        "    optimizer.zero_grad()\n",
        "    input_ids = batch['input_ids'].to(device)\n",
        "    attention_mask = batch['attention_mask'].to(device)\n",
        "    batch_labels = batch['labels'].to(device)\n",
        "    outputs = model(input_ids, attention_mask=attention_mask, labels=batch_labels)\n",
        "    # Use cross entropy loss\n",
        "    #loss = F.cross_entropy(outputs.logits, batch_labels)\n",
        "    loss = outputs.loss\n",
        "    loss.backward()\n",
        "    optimizer.step()\n",
        "    train_loss += loss.item()\n",
        "  \n",
        "  print(\"Current Epoch: {}\".format(epoch + 1))\n",
        "  print(\"------------------------------------------\")\n",
        "  print(\"Train loss: {}\".format(train_loss))\n",
        "  print()\n",
        "  \n",
        "  # Check whether to stop or not\n",
        "  min_loss = min(train_loss, min_loss)\n",
        "  if min_loss < train_loss:\n",
        "    if epoch_count == 4:\n",
        "      early_stop = True\n",
        "      print(\"Stop training because of the early stop at epoch {}\".format(epoch + 1))\n",
        "      break\n",
        "    else:\n",
        "      epoch_count += 1\n",
        "  else:\n",
        "    # Reset the count\n",
        "    epoch_count = 0\n",
        "  \n",
        "with torch.no_grad():\n",
        "    total_loss = 0\n",
        "    y_pred = None\n",
        "    for batch in test_loader:\n",
        "        \n",
        "      input_ids = batch['input_ids'].to(device)\n",
        "      attention_mask = batch['attention_mask'].to(device)\n",
        "      batch_labels = batch['labels'].to(device)\n",
        "      output = model(input_ids, attention_mask=attention_mask, labels=batch_labels)\n",
        "\n",
        "      _, predicted_labels = torch.max(output.logits, 1)\n",
        "      if y_pred is not None:\n",
        "          y_pred = torch.cat((y_pred, predicted_labels), 0)\n",
        "      else:\n",
        "          y_pred = predicted_labels\n",
        " \n",
        "precision, recall, f1, _ = precision_recall_fscore_support(test_labels, y_pred.cpu(), average='micro')\n",
        "acc = accuracy_score(test_labels, y_pred.cpu())\n",
        "print('Precison: {}'.format(precision))\n",
        "print('Recall: {}'.format(recall))\n",
        "print('F1 score: {}'.format(f1))\n",
        "print('Accuracy: {}'.format(acc))"
      ],
      "execution_count": null,
      "outputs": [
        {
          "output_type": "stream",
          "text": [
            "Some weights of the model checkpoint at bert-base-uncased were not used when initializing BertForSequenceClassification: ['cls.predictions.bias', 'cls.predictions.transform.dense.weight', 'cls.predictions.transform.dense.bias', 'cls.predictions.decoder.weight', 'cls.seq_relationship.weight', 'cls.seq_relationship.bias', 'cls.predictions.transform.LayerNorm.weight', 'cls.predictions.transform.LayerNorm.bias']\n",
            "- This IS expected if you are initializing BertForSequenceClassification from the checkpoint of a model trained on another task or with another architecture (e.g. initializing a BertForSequenceClassification model from a BertForPreTraining model).\n",
            "- This IS NOT expected if you are initializing BertForSequenceClassification from the checkpoint of a model that you expect to be exactly identical (initializing a BertForSequenceClassification model from a BertForSequenceClassification model).\n",
            "Some weights of BertForSequenceClassification were not initialized from the model checkpoint at bert-base-uncased and are newly initialized: ['classifier.weight', 'classifier.bias']\n",
            "You should probably TRAIN this model on a down-stream task to be able to use it for predictions and inference.\n",
            "/usr/local/lib/python3.6/dist-packages/ipykernel_launcher.py:9: UserWarning: To copy construct from a tensor, it is recommended to use sourceTensor.clone().detach() or sourceTensor.clone().detach().requires_grad_(True), rather than torch.tensor(sourceTensor).\n",
            "  if __name__ == '__main__':\n"
          ],
          "name": "stderr"
        },
        {
          "output_type": "stream",
          "text": [
            "Current Epoch: 1\n",
            "------------------------------------------\n",
            "Train loss: 101.53323954343796\n",
            "\n",
            "Current Epoch: 2\n",
            "------------------------------------------\n",
            "Train loss: 99.5491891503334\n",
            "\n",
            "Current Epoch: 3\n",
            "------------------------------------------\n",
            "Train loss: 98.98423862457275\n",
            "\n",
            "Current Epoch: 4\n",
            "------------------------------------------\n",
            "Train loss: 98.03639221191406\n",
            "\n",
            "Current Epoch: 5\n",
            "------------------------------------------\n",
            "Train loss: 98.69284856319427\n",
            "\n",
            "Current Epoch: 6\n",
            "------------------------------------------\n",
            "Train loss: 97.8411111831665\n",
            "\n",
            "Current Epoch: 7\n",
            "------------------------------------------\n",
            "Train loss: 97.93597447872162\n",
            "\n",
            "Current Epoch: 8\n",
            "------------------------------------------\n",
            "Train loss: 97.49109625816345\n",
            "\n",
            "Current Epoch: 9\n",
            "------------------------------------------\n",
            "Train loss: 97.88804751634598\n",
            "\n",
            "Current Epoch: 10\n",
            "------------------------------------------\n",
            "Train loss: 97.40900492668152\n",
            "\n",
            "Current Epoch: 11\n",
            "------------------------------------------\n",
            "Train loss: 96.97042214870453\n",
            "\n",
            "Current Epoch: 12\n",
            "------------------------------------------\n",
            "Train loss: 96.85616916418076\n",
            "\n",
            "Current Epoch: 13\n",
            "------------------------------------------\n",
            "Train loss: 96.52343648672104\n",
            "\n",
            "Current Epoch: 14\n",
            "------------------------------------------\n",
            "Train loss: 96.54474765062332\n",
            "\n",
            "Current Epoch: 15\n",
            "------------------------------------------\n",
            "Train loss: 96.05742180347443\n",
            "\n",
            "Current Epoch: 16\n",
            "------------------------------------------\n",
            "Train loss: 95.59691917896271\n",
            "\n",
            "Current Epoch: 17\n",
            "------------------------------------------\n",
            "Train loss: 95.22615391016006\n",
            "\n",
            "Current Epoch: 18\n",
            "------------------------------------------\n",
            "Train loss: 95.62852615118027\n",
            "\n",
            "Current Epoch: 19\n",
            "------------------------------------------\n",
            "Train loss: 94.19933927059174\n",
            "\n",
            "Current Epoch: 20\n",
            "------------------------------------------\n",
            "Train loss: 93.85646706819534\n",
            "\n",
            "Precison: 0.48677248677248675\n",
            "Recall: 0.48677248677248675\n",
            "F1 score: 0.48677248677248675\n",
            "Accuracy: 0.48677248677248675\n"
          ],
          "name": "stdout"
        }
      ]
    },
    {
      "cell_type": "code",
      "metadata": {
        "colab": {
          "base_uri": "https://localhost:8080/"
        },
        "id": "x5u315af2l5Q",
        "outputId": "603577bc-b400-49b5-887b-ff1e15427fa6"
      },
      "source": [
        "# Set current learning rate here\n",
        "best_lr = 1e-3\n",
        "\n",
        "# Bert model from Huggingface\n",
        "model = BertForSequenceClassification.from_pretrained('bert-base-uncased', return_dict=True, num_labels=3)\n",
        "\n",
        "# Set the optimizer AdamW\n",
        "optimizer = AdamW(model.parameters(), lr=best_lr)\n",
        "\n",
        "# Implement early stopping\n",
        "min_loss = float('inf')\n",
        "epoch_count = 0\n",
        "early_stop = False\n",
        "\n",
        "# device = torch.device(\"cpu\")\n",
        "\n",
        "# Put the model on device\n",
        "model.to(device)\n",
        "\n",
        "for epoch in range(EPOCHS):\n",
        "  # Put the model in training mode\n",
        "  model.train()\n",
        "\n",
        "  train_loss = 0\n",
        "\n",
        "  for batch in train_loader:\n",
        "    optimizer.zero_grad()\n",
        "    input_ids = batch['input_ids'].to(device)\n",
        "    attention_mask = batch['attention_mask'].to(device)\n",
        "    batch_labels = batch['labels'].to(device)\n",
        "    outputs = model(input_ids, attention_mask=attention_mask, labels=batch_labels)\n",
        "    # Use cross entropy loss\n",
        "    #loss = F.cross_entropy(outputs.logits, batch_labels)\n",
        "    loss = outputs.loss\n",
        "    loss.backward()\n",
        "    optimizer.step()\n",
        "    train_loss += loss.item()\n",
        "  \n",
        "  print(\"Current Epoch: {}\".format(epoch + 1))\n",
        "  print(\"------------------------------------------\")\n",
        "  print(\"Train loss: {}\".format(train_loss))\n",
        "  print()\n",
        "  \n",
        "  # Check whether to stop or not\n",
        "  min_loss = min(train_loss, min_loss)\n",
        "  if min_loss < train_loss:\n",
        "    if epoch_count == 4:\n",
        "      early_stop = True\n",
        "      print(\"Stop training because of the early stop at epoch {}\".format(epoch + 1))\n",
        "      break\n",
        "    else:\n",
        "      epoch_count += 1\n",
        "  else:\n",
        "    # Reset the count\n",
        "    epoch_count = 0\n",
        "  \n",
        "with torch.no_grad():\n",
        "    total_loss = 0\n",
        "    y_pred = None\n",
        "    for batch in test_loader:\n",
        "        \n",
        "      input_ids = batch['input_ids'].to(device)\n",
        "      attention_mask = batch['attention_mask'].to(device)\n",
        "      batch_labels = batch['labels'].to(device)\n",
        "      output = model(input_ids, attention_mask=attention_mask, labels=batch_labels)\n",
        "\n",
        "      _, predicted_labels = torch.max(output.logits, 1)\n",
        "      if y_pred is not None:\n",
        "          y_pred = torch.cat((y_pred, predicted_labels), 0)\n",
        "      else:\n",
        "          y_pred = predicted_labels\n",
        " \n",
        "precision, recall, f1, _ = precision_recall_fscore_support(test_labels, y_pred.cpu(), average='micro')\n",
        "acc = accuracy_score(test_labels, y_pred.cpu())\n",
        "print('Precison: {}'.format(precision))\n",
        "print('Recall: {}'.format(recall))\n",
        "print('F1 score: {}'.format(f1))\n",
        "print('Accuracy: {}'.format(acc))"
      ],
      "execution_count": null,
      "outputs": [
        {
          "output_type": "stream",
          "text": [
            "Some weights of the model checkpoint at bert-base-uncased were not used when initializing BertForSequenceClassification: ['cls.predictions.bias', 'cls.predictions.transform.dense.weight', 'cls.predictions.transform.dense.bias', 'cls.predictions.decoder.weight', 'cls.seq_relationship.weight', 'cls.seq_relationship.bias', 'cls.predictions.transform.LayerNorm.weight', 'cls.predictions.transform.LayerNorm.bias']\n",
            "- This IS expected if you are initializing BertForSequenceClassification from the checkpoint of a model trained on another task or with another architecture (e.g. initializing a BertForSequenceClassification model from a BertForPreTraining model).\n",
            "- This IS NOT expected if you are initializing BertForSequenceClassification from the checkpoint of a model that you expect to be exactly identical (initializing a BertForSequenceClassification model from a BertForSequenceClassification model).\n",
            "Some weights of BertForSequenceClassification were not initialized from the model checkpoint at bert-base-uncased and are newly initialized: ['classifier.weight', 'classifier.bias']\n",
            "You should probably TRAIN this model on a down-stream task to be able to use it for predictions and inference.\n",
            "/usr/local/lib/python3.6/dist-packages/ipykernel_launcher.py:9: UserWarning: To copy construct from a tensor, it is recommended to use sourceTensor.clone().detach() or sourceTensor.clone().detach().requires_grad_(True), rather than torch.tensor(sourceTensor).\n",
            "  if __name__ == '__main__':\n"
          ],
          "name": "stderr"
        },
        {
          "output_type": "stream",
          "text": [
            "Current Epoch: 1\n",
            "------------------------------------------\n",
            "Train loss: 108.65174180269241\n",
            "\n",
            "Current Epoch: 2\n",
            "------------------------------------------\n",
            "Train loss: 103.48272258043289\n",
            "\n",
            "Current Epoch: 3\n",
            "------------------------------------------\n",
            "Train loss: 106.42497771978378\n",
            "\n",
            "Current Epoch: 4\n",
            "------------------------------------------\n",
            "Train loss: 109.76540422439575\n",
            "\n",
            "Current Epoch: 5\n",
            "------------------------------------------\n",
            "Train loss: 107.67937356233597\n",
            "\n",
            "Current Epoch: 6\n",
            "------------------------------------------\n",
            "Train loss: 110.05821073055267\n",
            "\n",
            "Current Epoch: 7\n",
            "------------------------------------------\n",
            "Train loss: 107.99241816997528\n",
            "\n",
            "Stop training because of the early stop at epoch 7\n",
            "Precison: 0.2857142857142857\n",
            "Recall: 0.2857142857142857\n",
            "F1 score: 0.2857142857142857\n",
            "Accuracy: 0.2857142857142857\n"
          ],
          "name": "stdout"
        }
      ]
    },
    {
      "cell_type": "code",
      "metadata": {
        "id": "g9XnGEoP2l8q"
      },
      "source": [
        ""
      ],
      "execution_count": null,
      "outputs": []
    }
  ]
}