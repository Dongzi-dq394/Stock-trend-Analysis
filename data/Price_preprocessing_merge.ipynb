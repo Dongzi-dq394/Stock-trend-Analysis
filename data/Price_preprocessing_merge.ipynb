{
 "cells": [
  {
   "cell_type": "markdown",
   "metadata": {},
   "source": [
    "## Preprocessing the price data & merge with the news data"
   ]
  },
  {
   "cell_type": "code",
   "execution_count": 11,
   "metadata": {},
   "outputs": [],
   "source": [
    "import numpy as np\n",
    "import pandas as pd\n",
    "\n",
    "import os\n",
    "import time\n",
    "import random"
   ]
  },
  {
   "cell_type": "markdown",
   "metadata": {},
   "source": [
    "* Some parameters:"
   ]
  },
  {
   "cell_type": "code",
   "execution_count": 15,
   "metadata": {},
   "outputs": [],
   "source": [
    "all_stocks = './Stocks'\n",
    "news_data = './news_day.csv'\n",
    "\n",
    "consider_years = ['2014', '2015', '2016', '2017']\n",
    "threshold = 0.015\n",
    "UP, DOWN, STAY = 1, 0, -1\n",
    "\n",
    "train_size = 50000\n",
    "test_size = 10000"
   ]
  },
  {
   "cell_type": "markdown",
   "metadata": {},
   "source": [
    "### Price Data Preprocessing:"
   ]
  },
  {
   "cell_type": "code",
   "execution_count": 7,
   "metadata": {},
   "outputs": [],
   "source": [
    "def get_company(relative_path):\n",
    "    company_name = []\n",
    "    count = 0\n",
    "    \n",
    "    for _, _, files in os.walk(relative_path):\n",
    "        for file in files:\n",
    "            count += 1\n",
    "            company_name.append(file.split('.')[0].lower())\n",
    "    \n",
    "    return sorted(company_name), count\n",
    "\n",
    "def build_path(company):\n",
    "    return all_stocks + '/' + company + '.us.txt'\n",
    "\n",
    "def get_label(rate):\n",
    "    if rate>=threshold:\n",
    "        return UP\n",
    "    elif rate<=-threshold:\n",
    "        return DOWN\n",
    "    else:\n",
    "        return STAY\n",
    "\n",
    "def rate_diff(company, years):\n",
    "    com_path = build_path(company)\n",
    "    \n",
    "    #df = pd.read_csv(com_path)\n",
    "    \n",
    "    try:\n",
    "        df = pd.read_csv(com_path)\n",
    "    except:\n",
    "        return []\n",
    "    \n",
    "    dates = list(df['Date'])\n",
    "    open_price = list(df['Open'])\n",
    "    close_price = list(df['Close'])\n",
    "    \n",
    "    res = {}\n",
    "    \n",
    "    for i in range(len(dates)):\n",
    "        if dates[i][:4] in years:\n",
    "            if open_price[i]!=0:\n",
    "                rate = (close_price[i]-open_price[i]) / open_price[i]\n",
    "                label = get_label(rate)\n",
    "                res[dates[i]] = label\n",
    "                #res.append([dates[i], label])\n",
    "    \n",
    "    return res\n",
    "\n",
    "def extract_price_label(company_list, years):\n",
    "    label_all_company = {}\n",
    "    \n",
    "    start_t = time.time()\n",
    "    \n",
    "    for i, comp in enumerate(company_list):\n",
    "        temp = rate_diff(comp, years)\n",
    "        if temp:\n",
    "            label_all_company[comp] = temp\n",
    "        if (i+1)%500==0:\n",
    "            print(\"The %dth company processed; time till now is %.4fs.\" % (i+1, time.time()-start_t))\n",
    "    \n",
    "    return label_all_company"
   ]
  },
  {
   "cell_type": "code",
   "execution_count": 5,
   "metadata": {},
   "outputs": [
    {
     "name": "stdout",
     "output_type": "stream",
     "text": [
      "There are 7195 companies in total.\n"
     ]
    }
   ],
   "source": [
    "company_list, company_number = get_company(all_stocks)\n",
    "\n",
    "print(\"There are %d companies in total.\" % (company_number))"
   ]
  },
  {
   "cell_type": "code",
   "execution_count": 8,
   "metadata": {},
   "outputs": [
    {
     "name": "stdout",
     "output_type": "stream",
     "text": [
      "The 500th company processed; time till now is 4.3642s.\n",
      "The 1000th company processed; time till now is 8.3630s.\n",
      "The 1500th company processed; time till now is 12.6893s.\n",
      "The 2000th company processed; time till now is 16.6319s.\n",
      "The 2500th company processed; time till now is 20.5600s.\n",
      "The 3000th company processed; time till now is 24.2738s.\n",
      "The 3500th company processed; time till now is 28.1657s.\n",
      "The 4000th company processed; time till now is 32.0057s.\n",
      "The 4500th company processed; time till now is 36.0976s.\n",
      "The 5000th company processed; time till now is 39.9549s.\n",
      "The 5500th company processed; time till now is 44.0088s.\n",
      "The 6000th company processed; time till now is 48.8638s.\n",
      "The 6500th company processed; time till now is 52.9304s.\n",
      "The 7000th company processed; time till now is 57.0681s.\n",
      "There are 5442556 rows of record in this dictionary.\n"
     ]
    }
   ],
   "source": [
    "price_label_all_company = extract_price_label(company_list, consider_years)\n",
    "\n",
    "total_number = 0\n",
    "for key in price_label_all_company:\n",
    "    total_number += len(price_label_all_company[key])\n",
    "    \n",
    "print(\"There are %d rows of record in this dictionary.\" % (total_number))"
   ]
  },
  {
   "cell_type": "markdown",
   "metadata": {},
   "source": [
    "### News Data Preprocessing:"
   ]
  },
  {
   "cell_type": "code",
   "execution_count": 16,
   "metadata": {},
   "outputs": [],
   "source": [
    "def get_news_data(news_data_path, years):\n",
    "    df_news = pd.read_csv(news_data_path)\n",
    "    \n",
    "    stocks = df_news['stock']\n",
    "    date = df_news['day']\n",
    "    news_title = df_news['title']\n",
    "    \n",
    "    news_info = []\n",
    "    \n",
    "    for i in range(len(stocks)):\n",
    "        if date[i][:4] in years:\n",
    "            news_info.append([stocks[i], date[i], news_title[i]])\n",
    "    \n",
    "    random.shuffle(news_info)\n",
    "    \n",
    "    return news_info\n",
    "\n",
    "def generate_train_test(price_label, news_info, train_size=train_size, test_size=test_size):\n",
    "    columns_name = ['stock', 'date', 'title', 'label']\n",
    "    \n",
    "    count = 0\n",
    "    train_set = []\n",
    "    test_set = []\n",
    "    \n",
    "    for i, info in enumerate(news_info):\n",
    "        if count>=train_size+test_size:\n",
    "            break\n",
    "        stock, date, title = info\n",
    "        lower_stock = stock.lower()\n",
    "        if lower_stock in price_label:\n",
    "            if date in price_label[lower_stock]:\n",
    "                count += 1\n",
    "                label = price_label[lower_stock][date]\n",
    "                if count <= train_size:\n",
    "                    train_set.append([stock, date, title, label])\n",
    "                else:\n",
    "                    test_set.append([stock, date, title, label])\n",
    "    \n",
    "    train_df = pd.DataFrame(columns=columns_name, data=train_set)\n",
    "    test_df = pd.DataFrame(columns=columns_name, data=test_set)\n",
    "    \n",
    "    return train_df, test_df"
   ]
  },
  {
   "cell_type": "code",
   "execution_count": 13,
   "metadata": {},
   "outputs": [
    {
     "name": "stdout",
     "output_type": "stream",
     "text": [
      "There are 524439 rows of data in news_info.\n"
     ]
    }
   ],
   "source": [
    "news_info = get_news_data(news_data, consider_years)\n",
    "\n",
    "print(\"There are %d rows of data in news_info.\" % (len(news_info)))"
   ]
  },
  {
   "cell_type": "code",
   "execution_count": 17,
   "metadata": {},
   "outputs": [],
   "source": [
    "train_df, test_df = generate_train_test(price_label_all_company, news_info)"
   ]
  },
  {
   "cell_type": "code",
   "execution_count": 28,
   "metadata": {},
   "outputs": [
    {
     "name": "stdout",
     "output_type": "stream",
     "text": [
      "The shape of training dataframe is (50000, 4).\n",
      "The shape of test dataframe is (10000, 4).\n"
     ]
    }
   ],
   "source": [
    "print(\"The shape of training dataframe is %s.\" % (str(train_df.shape)))\n",
    "print(\"The shape of test dataframe is %s.\" % (str(test_df.shape)))"
   ]
  },
  {
   "cell_type": "code",
   "execution_count": 30,
   "metadata": {},
   "outputs": [],
   "source": [
    "train_df.to_csv('./train.csv', index=False)\n",
    "test_df.to_csv('./test.csv', index=False)"
   ]
  }
 ],
 "metadata": {
  "kernelspec": {
   "display_name": "Python 3",
   "language": "python",
   "name": "python3"
  },
  "language_info": {
   "codemirror_mode": {
    "name": "ipython",
    "version": 3
   },
   "file_extension": ".py",
   "mimetype": "text/x-python",
   "name": "python",
   "nbconvert_exporter": "python",
   "pygments_lexer": "ipython3",
   "version": "3.6.10"
  }
 },
 "nbformat": 4,
 "nbformat_minor": 4
}
