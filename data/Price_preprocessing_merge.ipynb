{
 "cells": [
  {
   "cell_type": "markdown",
   "metadata": {},
   "source": [
    "## Preprocessing the price data & merge with the news+10K data"
   ]
  },
  {
   "cell_type": "code",
   "execution_count": 1,
   "metadata": {},
   "outputs": [],
   "source": [
    "import numpy as np\n",
    "import pandas as pd\n",
    "\n",
    "import os\n",
    "import time\n",
    "import random\n",
    "\n",
    "from collections import defaultdict"
   ]
  },
  {
   "cell_type": "markdown",
   "metadata": {},
   "source": [
    "* Some parameters:"
   ]
  },
  {
   "cell_type": "code",
   "execution_count": 2,
   "metadata": {},
   "outputs": [],
   "source": [
    "all_stocks = './Stocks'\n",
    "news_data = './news_day.csv'\n",
    "\n",
    "consider_years = ['2014', '2015', '2016', '2017']\n",
    "daily_threshold = 0.015\n",
    "yearly_threshold = 0.10\n",
    "UP, STAY, DOWN = 2, 1, 0\n",
    "\n",
    "train_size = 80000\n",
    "test_size = 20000"
   ]
  },
  {
   "cell_type": "markdown",
   "metadata": {},
   "source": [
    "### Price Data Preprocessing:"
   ]
  },
  {
   "cell_type": "code",
   "execution_count": 3,
   "metadata": {},
   "outputs": [],
   "source": [
    "def get_company(relative_path):\n",
    "    company_name = []\n",
    "    count = 0\n",
    "    \n",
    "    for _, _, files in os.walk(relative_path):\n",
    "        for file in files:\n",
    "            count += 1\n",
    "            company_name.append(file.split('.')[0].lower())\n",
    "    \n",
    "    return sorted(company_name), count\n",
    "\n",
    "def build_path(company):\n",
    "    return all_stocks + '/' + company + '.us.txt'\n",
    "\n",
    "def get_label(rate):\n",
    "    if rate>=daily_threshold:\n",
    "        return UP\n",
    "    elif rate<=-daily_threshold:\n",
    "        return DOWN\n",
    "    else:\n",
    "        return STAY\n",
    "\n",
    "def rate_diff(company, years):\n",
    "    com_path = build_path(company)\n",
    "    \n",
    "    #df = pd.read_csv(com_path)\n",
    "    \n",
    "    try:\n",
    "        df = pd.read_csv(com_path)\n",
    "    except:\n",
    "        return []\n",
    "    \n",
    "    dates = list(df['Date'])\n",
    "    open_price = list(df['Open'])\n",
    "    close_price = list(df['Close'])\n",
    "    \n",
    "    res = {}\n",
    "    \n",
    "    for i in range(len(dates)):\n",
    "        if dates[i][:4] in years:\n",
    "            if open_price[i]!=0:\n",
    "                rate = (close_price[i]-open_price[i]) / open_price[i]\n",
    "                label = get_label(rate)\n",
    "                res[dates[i]] = label\n",
    "                #res.append([dates[i], label])\n",
    "    \n",
    "    return res\n",
    "\n",
    "def extract_price_label(company_list, years):\n",
    "    label_all_company = {}\n",
    "    \n",
    "    start_t = time.time()\n",
    "    \n",
    "    for i, comp in enumerate(company_list):\n",
    "        temp = rate_diff(comp, years)\n",
    "        if temp:\n",
    "            label_all_company[comp] = temp\n",
    "        if (i+1)%500==0:\n",
    "            print(\"The %dth company processed; time till now is %.4fs.\" % (i+1, time.time()-start_t))\n",
    "    \n",
    "    return label_all_company"
   ]
  },
  {
   "cell_type": "code",
   "execution_count": 4,
   "metadata": {},
   "outputs": [
    {
     "name": "stdout",
     "output_type": "stream",
     "text": [
      "There are 7195 companies in total.\n"
     ]
    }
   ],
   "source": [
    "company_list, company_number = get_company(all_stocks)\n",
    "\n",
    "print(\"There are %d companies in total.\" % (company_number))"
   ]
  },
  {
   "cell_type": "code",
   "execution_count": 5,
   "metadata": {},
   "outputs": [
    {
     "name": "stdout",
     "output_type": "stream",
     "text": [
      "The 500th company processed; time till now is 5.1144s.\n",
      "The 1000th company processed; time till now is 9.3844s.\n",
      "The 1500th company processed; time till now is 13.3043s.\n",
      "The 2000th company processed; time till now is 17.5232s.\n",
      "The 2500th company processed; time till now is 21.4627s.\n",
      "The 3000th company processed; time till now is 25.4160s.\n",
      "The 3500th company processed; time till now is 29.2270s.\n",
      "The 4000th company processed; time till now is 33.4277s.\n",
      "The 4500th company processed; time till now is 38.0440s.\n",
      "The 5000th company processed; time till now is 42.2219s.\n",
      "The 5500th company processed; time till now is 46.5047s.\n",
      "The 6000th company processed; time till now is 50.3297s.\n",
      "The 6500th company processed; time till now is 54.3039s.\n",
      "The 7000th company processed; time till now is 58.2257s.\n",
      "There are 5442556 rows of record in this dictionary.\n"
     ]
    }
   ],
   "source": [
    "price_label_all_company = extract_price_label(company_list, consider_years)\n",
    "\n",
    "total_number = 0\n",
    "for key in price_label_all_company:\n",
    "    total_number += len(price_label_all_company[key])\n",
    "    \n",
    "print(\"There are %d rows of record in this dictionary.\" % (total_number))"
   ]
  },
  {
   "cell_type": "markdown",
   "metadata": {},
   "source": [
    "### News Data Preprocessing:"
   ]
  },
  {
   "cell_type": "code",
   "execution_count": 6,
   "metadata": {},
   "outputs": [],
   "source": [
    "def get_news_data(news_data_path, years):\n",
    "    df_news = pd.read_csv(news_data_path)\n",
    "    \n",
    "    stocks = df_news['stock']\n",
    "    date = df_news['day']\n",
    "    news_title = df_news['title']\n",
    "    \n",
    "    news_info = []\n",
    "    \n",
    "    for i in range(len(stocks)):\n",
    "        if date[i][:4] in years:\n",
    "            news_info.append([stocks[i], date[i], news_title[i]])\n",
    "    \n",
    "    random.shuffle(news_info)\n",
    "    \n",
    "    return news_info\n",
    "\n",
    "def generate_train_test(price_label, news_info, train_size=train_size, test_size=test_size):\n",
    "    columns_name = ['stock', 'date', 'title', 'label']\n",
    "    \n",
    "    count = 0\n",
    "    train_set = []\n",
    "    test_set = []\n",
    "    \n",
    "    for i, info in enumerate(news_info):\n",
    "        if count>=train_size+test_size:\n",
    "            break\n",
    "        stock, date, title = info\n",
    "        lower_stock = stock.lower()\n",
    "        if lower_stock in price_label:\n",
    "            if date in price_label[lower_stock]:\n",
    "                count += 1\n",
    "                label = price_label[lower_stock][date]\n",
    "                if count <= train_size:\n",
    "                    train_set.append([stock, date, title, label])\n",
    "                else:\n",
    "                    test_set.append([stock, date, title, label])\n",
    "    \n",
    "    train_df = pd.DataFrame(columns=columns_name, data=train_set)\n",
    "    test_df = pd.DataFrame(columns=columns_name, data=test_set)\n",
    "    \n",
    "    return train_df, test_df"
   ]
  },
  {
   "cell_type": "code",
   "execution_count": 7,
   "metadata": {},
   "outputs": [
    {
     "name": "stdout",
     "output_type": "stream",
     "text": [
      "There are 524439 rows of data in news_info.\n"
     ]
    }
   ],
   "source": [
    "news_info = get_news_data(news_data, consider_years)\n",
    "\n",
    "print(\"There are %d rows of data in news_info.\" % (len(news_info)))"
   ]
  },
  {
   "cell_type": "code",
   "execution_count": 8,
   "metadata": {},
   "outputs": [],
   "source": [
    "train_df, test_df = generate_train_test(price_label_all_company, news_info)"
   ]
  },
  {
   "cell_type": "code",
   "execution_count": 9,
   "metadata": {},
   "outputs": [
    {
     "name": "stdout",
     "output_type": "stream",
     "text": [
      "The shape of training dataframe is (80000, 4).\n",
      "The shape of test dataframe is (20000, 4).\n"
     ]
    }
   ],
   "source": [
    "print(\"The shape of training dataframe is %s.\" % (str(train_df.shape)))\n",
    "print(\"The shape of test dataframe is %s.\" % (str(test_df.shape)))"
   ]
  },
  {
   "cell_type": "code",
   "execution_count": 10,
   "metadata": {},
   "outputs": [],
   "source": [
    "train_df.to_csv('RandomComp/train.csv', index=False)\n",
    "test_df.to_csv('RandomComp/test.csv', index=False)"
   ]
  },
  {
   "cell_type": "markdown",
   "metadata": {},
   "source": [
    "### Distinct company list:"
   ]
  },
  {
   "cell_type": "code",
   "execution_count": 11,
   "metadata": {},
   "outputs": [],
   "source": [
    "all_company = list(set(list(train_df['stock']) + list(test_df['stock'])))"
   ]
  },
  {
   "cell_type": "code",
   "execution_count": 12,
   "metadata": {},
   "outputs": [],
   "source": [
    "col_name = ['Company']\n",
    "distinct_company = pd.DataFrame(columns=col_name, data=sorted(all_company))\n",
    "distinct_company.to_csv('RandomComp/dis_comp.csv', index=False)"
   ]
  },
  {
   "cell_type": "markdown",
   "metadata": {},
   "source": [
    "### 10K label generating:"
   ]
  },
  {
   "cell_type": "code",
   "execution_count": 13,
   "metadata": {},
   "outputs": [],
   "source": [
    "def generate_10K_label(all_company, consider_years, price_label_all_company):\n",
    "    res = []\n",
    "    dic = defaultdict(list)\n",
    "    column_name = ['stock', 'year', 'label']\n",
    "    \n",
    "    start_t = time.time()\n",
    "    \n",
    "    for i, comp in enumerate(all_company):\n",
    "        comp_path = build_path(comp)\n",
    "        df = pd.read_csv(comp_path)\n",
    "        \n",
    "        dates = list(df['Date'])\n",
    "        open_price = list(df['Open'])\n",
    "        close_price = list(df['Close'])\n",
    "        \n",
    "        for j, date in enumerate(dates):\n",
    "            if date[:4] in consider_years:\n",
    "                key = comp + '-' + date[:4]\n",
    "                dic[key].append(close_price[j])\n",
    "        \n",
    "        if (i+1)%300==0:\n",
    "            print(\"The %dth company done, time till now: %.4fs.\" % (i+1, time.time()-start_t))\n",
    "    \n",
    "    for comp in all_company:\n",
    "        for year in consider_years:\n",
    "            key = comp + '-' + year\n",
    "            if dic[key]!=[]:\n",
    "                diff = (dic[key][-1] - dic[key][0]) / dic[key][0]\n",
    "                if diff>=yearly_threshold:\n",
    "                    label = UP\n",
    "                elif diff<=-yearly_threshold:\n",
    "                    label = DOWN\n",
    "                else:\n",
    "                    label = STAY\n",
    "                res.append([comp, year, label])\n",
    "    \n",
    "    TenK_data = pd.DataFrame(columns=column_name, data=res)\n",
    "    return TenK_data"
   ]
  },
  {
   "cell_type": "code",
   "execution_count": 14,
   "metadata": {},
   "outputs": [
    {
     "name": "stdout",
     "output_type": "stream",
     "text": [
      "The 300th company done, time till now: 2.7885s.\n",
      "The 600th company done, time till now: 6.1897s.\n",
      "The 900th company done, time till now: 8.9142s.\n",
      "The 1200th company done, time till now: 11.6203s.\n",
      "The 1500th company done, time till now: 14.3261s.\n",
      "The 1800th company done, time till now: 17.0483s.\n",
      "The 2100th company done, time till now: 19.9115s.\n",
      "The 2400th company done, time till now: 22.6122s.\n",
      "The 2700th company done, time till now: 25.3724s.\n",
      "The 3000th company done, time till now: 28.0650s.\n",
      "The 3300th company done, time till now: 30.7666s.\n"
     ]
    }
   ],
   "source": [
    "TenK_data = generate_10K_label(all_company, consider_years, price_label_all_company)"
   ]
  },
  {
   "cell_type": "code",
   "execution_count": 15,
   "metadata": {},
   "outputs": [],
   "source": [
    "TenK_data.to_csv('RandomComp/10K_label.csv', index=False)"
   ]
  },
  {
   "cell_type": "code",
   "execution_count": null,
   "metadata": {},
   "outputs": [],
   "source": []
  }
 ],
 "metadata": {
  "kernelspec": {
   "display_name": "Python 3",
   "language": "python",
   "name": "python3"
  },
  "language_info": {
   "codemirror_mode": {
    "name": "ipython",
    "version": 3
   },
   "file_extension": ".py",
   "mimetype": "text/x-python",
   "name": "python",
   "nbconvert_exporter": "python",
   "pygments_lexer": "ipython3",
   "version": "3.6.10"
  }
 },
 "nbformat": 4,
 "nbformat_minor": 4
}
