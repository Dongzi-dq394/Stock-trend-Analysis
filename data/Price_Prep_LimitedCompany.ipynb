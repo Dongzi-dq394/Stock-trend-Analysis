{
 "cells": [
  {
   "cell_type": "markdown",
   "metadata": {},
   "source": [
    "# Price Data Preprocessing with limited number of companies"
   ]
  },
  {
   "cell_type": "code",
   "execution_count": 72,
   "metadata": {},
   "outputs": [],
   "source": [
    "import numpy as np\n",
    "import pandas as pd\n",
    "\n",
    "import os\n",
    "import time\n",
    "import random\n",
    "\n",
    "from collections import defaultdict\n",
    "from sklearn.model_selection import train_test_split"
   ]
  },
  {
   "cell_type": "code",
   "execution_count": 81,
   "metadata": {},
   "outputs": [],
   "source": [
    "all_stock_path = './Stocks'\n",
    "news_data = './news_day.csv'\n",
    "\n",
    "consider_years = ['2010', '2011', '2012', '2013', '2014', '2015', '2016', '2017']\n",
    "company_number = 200\n",
    "\n",
    "daily_threshold = 0.015\n",
    "yearly_threshold = 0.10\n",
    "UP, STAY, DOWN = 2, 1, 0\n",
    "\n",
    "#train_size = 75000\n",
    "#test_size = 15000\n",
    "#total_size = 50000\n",
    "test_size = 0.2"
   ]
  },
  {
   "cell_type": "code",
   "execution_count": 49,
   "metadata": {},
   "outputs": [],
   "source": [
    "def get_news_data(news_data_path, years):\n",
    "    res = defaultdict(dict)\n",
    "    df = pd.read_csv(news_data_path)\n",
    "    \n",
    "    stocks = list(df['stock'])\n",
    "    date = list(df['day'])\n",
    "    title = list(df['title'])\n",
    "    \n",
    "    for i in range(len(stocks)):\n",
    "        if date[i][:4] in years:\n",
    "            if date[i] not in res[stocks[i]]:\n",
    "                res[stocks[i]][date[i]] = [title[i]]\n",
    "            else:\n",
    "                res[stocks[i]][date[i]].append(title[i])\n",
    "        if (i+1)%500000==0:\n",
    "            print(\"The %dth line finished!\" % (i+1))\n",
    "    return res\n",
    "\n",
    "def choose_company(news_dic, stock_path, company_number):\n",
    "    company_name = []\n",
    "    count = 0\n",
    "    \n",
    "    for _, _, files in os.walk(stock_path):\n",
    "        random.shuffle(files)\n",
    "        for file in files:\n",
    "            file_name = file.split('.')[0].upper()\n",
    "            if file_name in news_dic:\n",
    "                count += 1\n",
    "                company_name.append(file_name)\n",
    "            if count >= company_number:\n",
    "                break\n",
    "    return company_name\n",
    "\n",
    "def build_path(company, stock_path=all_stock_path):\n",
    "    return stock_path + '/' + company + '.us.txt'\n",
    "\n",
    "def get_label(rate, thres):\n",
    "    if rate>=thres:\n",
    "        return UP\n",
    "    elif rate<=-thres:\n",
    "        return DOWN\n",
    "    else:\n",
    "        return STAY\n",
    "\n",
    "def price_news(company_list, news_dic, data_size=total_size):\n",
    "    info = []\n",
    "    column_names = ['stock', 'date', 'title', 'label']\n",
    "    \n",
    "    start_t = time.time()\n",
    "    \n",
    "    for i, comp in enumerate(company_list):\n",
    "        comp_path = build_path(comp.lower())\n",
    "        \n",
    "        try:\n",
    "            df = pd.read_csv(comp_path)\n",
    "        except:\n",
    "            continue\n",
    "        \n",
    "        dates = list(df['Date'])\n",
    "        open_price = list(df['Open'])\n",
    "        close_price = list(df['Close'])\n",
    "        \n",
    "        for j, dat in enumerate(dates):\n",
    "            if dat in news_dic[comp] and open_price[j]!=0:\n",
    "                rate = (close_price[j]-open_price[j])/open_price[j]\n",
    "                label = get_label(rate, daily_threshold)\n",
    "                for news in news_dic[comp][dat]:\n",
    "                    info.append([comp, dat, news, label])\n",
    "        \n",
    "        if (i+1)%50==0:\n",
    "            print(\"The %dth company done, time till now is %.4fs.\" % (i+1, time.time()-start_t))\n",
    "            \n",
    "    info_df = pd.DataFrame(columns=column_names, data=info)\n",
    "    return info_df"
   ]
  },
  {
   "cell_type": "code",
   "execution_count": 56,
   "metadata": {},
   "outputs": [
    {
     "name": "stdout",
     "output_type": "stream",
     "text": [
      "The 500000th line finished!\n",
      "The 1000000th line finished!\n"
     ]
    }
   ],
   "source": [
    "news_dic = get_news_data(news_data, consider_years)"
   ]
  },
  {
   "cell_type": "code",
   "execution_count": 82,
   "metadata": {
    "scrolled": true
   },
   "outputs": [
    {
     "name": "stdout",
     "output_type": "stream",
     "text": [
      "The 50th company done, time till now is 0.4434s.\n",
      "The 100th company done, time till now is 0.8856s.\n",
      "The 150th company done, time till now is 1.3327s.\n",
      "The 200th company done, time till now is 1.7798s.\n"
     ]
    }
   ],
   "source": [
    "company_list = choose_company(news_dic, all_stock_path, company_number)\n",
    "price_new_info = price_news(company_list, news_dic)"
   ]
  },
  {
   "cell_type": "code",
   "execution_count": 83,
   "metadata": {},
   "outputs": [],
   "source": [
    "train_df, test_df = train_test_split(price_new_info, test_size=test_size, shuffle=True)"
   ]
  },
  {
   "cell_type": "code",
   "execution_count": 88,
   "metadata": {},
   "outputs": [],
   "source": [
    "train_df.to_csv('LimitedComp/train.csv', index=False)\n",
    "test_df.to_csv('LimitedComp/test.csv', index=False)"
   ]
  },
  {
   "cell_type": "markdown",
   "metadata": {},
   "source": [
    "### Distinct company list:"
   ]
  },
  {
   "cell_type": "code",
   "execution_count": 89,
   "metadata": {},
   "outputs": [],
   "source": [
    "col_name = ['Company']\n",
    "distinct_company = pd.DataFrame(columns=col_name, data=sorted(company_list))\n",
    "distinct_company.to_csv('LimitedComp/dis_comp.csv', index=False)"
   ]
  },
  {
   "cell_type": "markdown",
   "metadata": {},
   "source": [
    "### 10K label generating:"
   ]
  },
  {
   "cell_type": "code",
   "execution_count": 90,
   "metadata": {},
   "outputs": [],
   "source": [
    "def generate_10K_label(company_list, years):\n",
    "    res = []\n",
    "    dic = defaultdict(list)\n",
    "    column_name = ['stock', 'year', 'label']\n",
    "    \n",
    "    start_t = time.time()\n",
    "    \n",
    "    for i, comp in enumerate(sorted(company_list)):\n",
    "        comp_path = build_path(comp.lower())\n",
    "        df = pd.read_csv(comp_path)\n",
    "        \n",
    "        dates = list(df['Date'])\n",
    "        open_price = list(df['Open'])\n",
    "        close_price = list(df['Close'])\n",
    "        \n",
    "        for j, date in enumerate(dates):\n",
    "            if date[:4] in years:\n",
    "                key = comp + '-' + date[:4]\n",
    "                dic[key].append(close_price[j])\n",
    "        \n",
    "        if (i+1)%50==0:\n",
    "            print(\"The %dth company done, time till now: %.4fs.\" % (i+1, time.time()-start_t))\n",
    "    \n",
    "    for comp in company_list:\n",
    "        for year in years:\n",
    "            key = comp + '-' + year\n",
    "            if dic[key]!=[]:\n",
    "                diff = (dic[key][-1] - dic[key][0]) / dic[key][0]\n",
    "                label = get_label(diff, yearly_threshold)\n",
    "                res.append([comp, year, label])\n",
    "    \n",
    "    TenK_data = pd.DataFrame(columns=column_name, data=res)\n",
    "    return TenK_data"
   ]
  },
  {
   "cell_type": "code",
   "execution_count": 91,
   "metadata": {},
   "outputs": [
    {
     "name": "stdout",
     "output_type": "stream",
     "text": [
      "The 50th company done, time till now: 0.6345s.\n",
      "The 100th company done, time till now: 1.1843s.\n",
      "The 150th company done, time till now: 1.8857s.\n",
      "The 200th company done, time till now: 2.5278s.\n"
     ]
    }
   ],
   "source": [
    "TenK_data = generate_10K_label(company_list, consider_years)"
   ]
  },
  {
   "cell_type": "code",
   "execution_count": 93,
   "metadata": {},
   "outputs": [],
   "source": [
    "TenK_data.to_csv('LimitedComp/10K_label.csv', index=False)"
   ]
  },
  {
   "cell_type": "code",
   "execution_count": null,
   "metadata": {},
   "outputs": [],
   "source": []
  }
 ],
 "metadata": {
  "kernelspec": {
   "display_name": "Python 3",
   "language": "python",
   "name": "python3"
  },
  "language_info": {
   "codemirror_mode": {
    "name": "ipython",
    "version": 3
   },
   "file_extension": ".py",
   "mimetype": "text/x-python",
   "name": "python",
   "nbconvert_exporter": "python",
   "pygments_lexer": "ipython3",
   "version": "3.6.10"
  }
 },
 "nbformat": 4,
 "nbformat_minor": 4
}
